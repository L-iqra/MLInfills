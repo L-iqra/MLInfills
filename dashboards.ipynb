{
 "cells": [
  {
   "cell_type": "markdown",
   "id": "636c1a90-9eb1-4ba9-825a-484c838c4bb6",
   "metadata": {},
   "source": [
    "<H1>Predict here"
   ]
  },
  {
   "cell_type": "code",
   "execution_count": null,
   "id": "f0ba86bf-e384-4356-a447-1b4a58be7cdc",
   "metadata": {},
   "outputs": [],
   "source": [
    "from dash_predict import *"
   ]
  },
  {
   "cell_type": "markdown",
   "id": "87179b48-dc7f-4822-9d82-665ec83af5d4",
   "metadata": {},
   "source": [
    "<h1>Optimize here"
   ]
  },
  {
   "cell_type": "code",
   "execution_count": null,
   "id": "66a2e50e-2572-43f4-ae20-b14763f3dd28",
   "metadata": {},
   "outputs": [],
   "source": [
    "from dash_optimize import *"
   ]
  }
 ],
 "metadata": {
  "kernelspec": {
   "display_name": "Python 3 (ipykernel)",
   "language": "python",
   "name": "python3"
  },
  "language_info": {
   "codemirror_mode": {
    "name": "ipython",
    "version": 3
   },
   "file_extension": ".py",
   "mimetype": "text/x-python",
   "name": "python",
   "nbconvert_exporter": "python",
   "pygments_lexer": "ipython3",
   "version": "3.8.8"
  }
 },
 "nbformat": 4,
 "nbformat_minor": 5
}
